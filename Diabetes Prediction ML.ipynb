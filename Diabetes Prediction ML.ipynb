{
 "cells": [
  {
   "cell_type": "markdown",
   "id": "0d412bd5",
   "metadata": {},
   "source": [
    "# Diabetes Prediction Using Machine Learning\n",
    "\n",
    "Diabetes, is a group of metabolic disorders in which there are high blood sugar levels over a prolonged period. Symptoms of high blood sugar include frequent urination, increased thirst, and increased hunger. If left untreated, diabetes can cause many complications. Acute complications can include diabetic ketoacidosis, hyperosmolar hyperglycemic state, or death. Serious long-term complications include cardiovascular disease, stroke, chronic kidney disease, foot ulcers, and damage to the eyes.\n",
    " \n",
    "\n",
    "This dataset has several medical predictor(Independent variables and dependent variables which is the target variables (Outcome)). \n",
    "\n",
    "\n",
    "The Predictor variables includes blood sugar levels, pregnancies, glucose level, blood pressure, insulin, BMI, Diabetes Pedigree function, and age in predicting the outcome which is the target variable.\n",
    "\n"
   ]
  },
  {
   "cell_type": "markdown",
   "id": "92a107ca",
   "metadata": {},
   "source": [
    "### Objective\n",
    "\n",
    "Objective of this project is to try build a machine learning model to accurately predict whether or not the patients in the dataset have diabetes or not?\n"
   ]
  },
  {
   "cell_type": "markdown",
   "id": "d5a74658",
   "metadata": {},
   "source": [
    "### Details about the Dataset\n",
    "\n",
    "The datasets consists of several medical predictor variables and one target variable, Outcome.\n",
    "These variables are:\n",
    "\n",
    "1. Pregnancies: Number of times pregnant\n",
    "2. Glucose: Plasma glucose concentration a 2 hours in an oral glucose tolerance test\n",
    "3. BloodPressure: Diastolic blood pressure (mm Hg)\n",
    "4. SkinThickness: Triceps skin fold thickness (mm)\n",
    "5. Insulin: 2-Hour serum insulin (mu U/ml)\n",
    "6. BMI: Body mass index (weight in kg/(height in m)^2)\n",
    "7. DiabetesPedigreeFunction: Diabetes pedigree function\n",
    "8. Age: Age (years)\n",
    "9. Outcome: Class variable (0 or 1)\n",
    "\n",
    "\n",
    "\n"
   ]
  },
  {
   "cell_type": "markdown",
   "id": "cbdbc736",
   "metadata": {},
   "source": [
    "## OSEMN Pipeline\n",
    "\n",
    "O - Obtaining the data\n",
    "\n",
    "S - Scrubbing / Cleaning data\n",
    "\n",
    "E - Exploring / Visualizing data will allow find patterns and trends\n",
    "\n",
    "M - Modeling the data will give us our predictive power\n",
    "\n",
    "N - Interpreting the data"
   ]
  },
  {
   "cell_type": "markdown",
   "id": "489ae1f3",
   "metadata": {},
   "source": [
    "### Importing Libraries\n",
    "\n",
    "**Numpy**: NumPy is a general-purpose array-processing package. It provides a high-performance multidimensional array object. It is the fundamental package for scientific computing with Python. Numerical Analysis Library.\n",
    "\n",
    "**Pandas**: Pandas is used for data analytics and for reading of dataset which is in .csv format and Data Preprocessing Pandas is also used for data manipulation. Its mostly used in manipulating numerical data.\n",
    "\n",
    "**Matplotlib**: For Charts or Plots\n",
    "\n",
    "**Seaborn** For Charts or Plots on top of matplotlib, it is a data Visualization library based on matplotlib. It provides a high-level interface for drawing attractive and informative statistical graphics\n",
    "\n",
    "**Warnings**: it is useful to alert the user of some condition in a program, where that condition (normally) doesn't warrant raising an exception and terminating the program.\n",
    "\n",
    "**Sklearn**(Scikit learn: Scikit-learn library provides many unsupervised and supervised learning algorithms. Scikit-learn provides:\n",
    "\n",
    "*   Regression\n",
    "*   Classification\n",
    "*   Model Selection Processing\n",
    "\n",
    "\n",
    "\n",
    "\n"
   ]
  },
  {
   "cell_type": "code",
   "execution_count": null,
   "id": "31116fa3",
   "metadata": {},
   "outputs": [],
   "source": [
    "#Importing Numpy\n",
    "import numpy as np\n",
    "\n",
    "#Importing Pandas\n",
    "import pandas as pd\n",
    "\n",
    "#Importing Matplotlib\n",
    "import matplotlib.pyplot as plt\n",
    "%matplotlib inline\n",
    "\n",
    "#Importing Seaborn\n",
    "import seaborn as sns\n",
    "\n",
    "#importing warnings\n",
    "import warnings\n",
    "warnings.filterwarnings('ignore')"
   ]
  }
 ],
 "metadata": {
  "kernelspec": {
   "display_name": "Python 3",
   "language": "python",
   "name": "python3"
  },
  "language_info": {
   "codemirror_mode": {
    "name": "ipython",
    "version": 3
   },
   "file_extension": ".py",
   "mimetype": "text/x-python",
   "name": "python",
   "nbconvert_exporter": "python",
   "pygments_lexer": "ipython3",
   "version": "3.8.8"
  }
 },
 "nbformat": 4,
 "nbformat_minor": 5
}
